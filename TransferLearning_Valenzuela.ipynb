{
  "cells": [
    {
      "cell_type": "code",
      "execution_count": 1,
      "metadata": {
        "id": "uREu33KRzehQ"
      },
      "outputs": [],
      "source": [
        "import tensorflow as tf\n",
        "from tensorflow.keras import layers, models\n",
        "import os\n"
      ]
    },
    {
      "cell_type": "markdown",
      "metadata": {
        "id": "5HBVD3mh2s8T"
      },
      "source": [
        "#Using Fruits dataset containing 9 fruits and 40 images for each fruit"
      ]
    },
    {
      "cell_type": "code",
      "execution_count": 2,
      "metadata": {
        "colab": {
          "base_uri": "https://localhost:8080/"
        },
        "id": "faRSC0sQ2sn3",
        "outputId": "348aff3a-f32a-47cb-c079-81fd3c54cf99"
      },
      "outputs": [
        {
          "output_type": "stream",
          "name": "stdout",
          "text": [
            "Found 360 files belonging to 9 classes.\n",
            "Using 288 files for training.\n",
            "Found 360 files belonging to 9 classes.\n",
            "Using 72 files for validation.\n"
          ]
        }
      ],
      "source": [
        "img_size = (224, 224)\n",
        "batch_size = 32\n",
        "train_ds = tf.keras.preprocessing.image_dataset_from_directory(\n",
        "    \"/content/drive/MyDrive/Data Science/fruits/images\",\n",
        "    validation_split=0.2,\n",
        "    subset=\"training\",\n",
        "    seed=123,\n",
        "    image_size=(224, 224),\n",
        "    batch_size=32,\n",
        "    label_mode='int'  # <--- use categorical for multi-class\n",
        ")\n",
        "\n",
        "val_ds = tf.keras.preprocessing.image_dataset_from_directory(\n",
        "    \"/content/drive/MyDrive/Data Science/fruits/images\",\n",
        "    validation_split=0.2,\n",
        "    subset=\"validation\",\n",
        "    seed=123,\n",
        "    image_size=(224, 224),\n",
        "    batch_size=32,\n",
        "    label_mode='int'\n",
        ")\n",
        "class_names = train_ds.class_names\n",
        "num_classes = len(class_names)"
      ]
    },
    {
      "cell_type": "code",
      "execution_count": 3,
      "metadata": {
        "id": "0z4dwRW5VtZ8"
      },
      "outputs": [],
      "source": [
        "AUTOTUNE = tf.data.AUTOTUNE\n",
        "train_ds = train_ds.prefetch(buffer_size=AUTOTUNE)\n",
        "val_ds = val_ds.prefetch(buffer_size=AUTOTUNE)"
      ]
    },
    {
      "cell_type": "markdown",
      "metadata": {
        "id": "XOGNIS8B7EDA"
      },
      "source": []
    },
    {
      "cell_type": "markdown",
      "metadata": {
        "id": "eMph_dyA43IL"
      },
      "source": [
        "#I will use MobileNetv2 and EfficientNet for my pre-trained Models."
      ]
    },
    {
      "cell_type": "markdown",
      "metadata": {
        "id": "JeuuULh07C-w"
      },
      "source": [
        "#MobileNetV2"
      ]
    },
    {
      "cell_type": "code",
      "execution_count": null,
      "metadata": {
        "id": "-L6EeCRpEOdk"
      },
      "outputs": [],
      "source": [
        "data_augmentation = tf.keras.Sequential([\n",
        "    layers.RandomFlip(\"horizontal\"),            # Randomly flip images horizontally\n",
        "    layers.RandomRotation(0.1),                 # Randomly rotate images by 10%\n",
        "    layers.RandomZoom(0.1),                     # Random zoom\n",
        "    layers.RandomTranslation(0.1, 0.1),         # Randomly shift image height and width\n",
        "])\n"
      ]
    },
    {
      "cell_type": "markdown",
      "source": [
        "#I imported MobileNetV2. The input shape was from the earlier snippet which is (224, 224, 3) I added 3 for RGB images. I did not include the original top layer of the MobileNetV2 because I will be using one for transfer learning. The weights are from imagenet and I set the base_model to false since I do not want the weights to be updated during training for feature extraction"
      ],
      "metadata": {
        "id": "JZ2ewVyH9oRX"
      }
    },
    {
      "cell_type": "code",
      "execution_count": null,
      "metadata": {
        "id": "qAOQxf2j3tJx"
      },
      "outputs": [],
      "source": [
        "base_model = tf.keras.applications.MobileNetV2(\n",
        "    input_shape=img_size + (3,),\n",
        "    include_top=False,\n",
        "    weights='imagenet'\n",
        ")\n",
        "base_model.trainable = False"
      ]
    },
    {
      "cell_type": "code",
      "execution_count": null,
      "metadata": {
        "id": "fRrWvrJu5BOj"
      },
      "outputs": [],
      "source": [
        "feature_model = tf.keras.Sequential([\n",
        "    tf.keras.layers.Rescaling(1./255),\n",
        "    base_model,\n",
        "    data_augmentation,\n",
        "    tf.keras.layers.GlobalAveragePooling2D(),\n",
        "    tf.keras.layers.Dense(256, activation='relu'),\n",
        "    tf.keras.layers.Dense(num_classes, activation='softmax')\n",
        "])"
      ]
    },
    {
      "cell_type": "code",
      "execution_count": null,
      "metadata": {
        "colab": {
          "base_uri": "https://localhost:8080/"
        },
        "id": "psslLHlq5TzC",
        "outputId": "d30949c1-423a-42ac-888a-a74a82f61cf6"
      },
      "outputs": [
        {
          "name": "stdout",
          "output_type": "stream",
          "text": [
            "Epoch 1/10\n",
            "\u001b[1m9/9\u001b[0m \u001b[32m━━━━━━━━━━━━━━━━━━━━\u001b[0m\u001b[37m\u001b[0m \u001b[1m51s\u001b[0m 4s/step - accuracy: 0.6656 - loss: 1.0443 - val_accuracy: 0.8194 - val_loss: 2.2064\n",
            "Epoch 2/10\n",
            "\u001b[1m9/9\u001b[0m \u001b[32m━━━━━━━━━━━━━━━━━━━━\u001b[0m\u001b[37m\u001b[0m \u001b[1m38s\u001b[0m 3s/step - accuracy: 0.9850 - loss: 0.0716 - val_accuracy: 0.8472 - val_loss: 2.0582\n",
            "Epoch 3/10\n",
            "\u001b[1m9/9\u001b[0m \u001b[32m━━━━━━━━━━━━━━━━━━━━\u001b[0m\u001b[37m\u001b[0m \u001b[1m40s\u001b[0m 3s/step - accuracy: 0.9937 - loss: 0.0239 - val_accuracy: 0.7361 - val_loss: 3.5614\n",
            "Epoch 4/10\n",
            "\u001b[1m9/9\u001b[0m \u001b[32m━━━━━━━━━━━━━━━━━━━━\u001b[0m\u001b[37m\u001b[0m \u001b[1m41s\u001b[0m 3s/step - accuracy: 0.9914 - loss: 0.0585 - val_accuracy: 0.5556 - val_loss: 10.8399\n",
            "Epoch 5/10\n",
            "\u001b[1m9/9\u001b[0m \u001b[32m━━━━━━━━━━━━━━━━━━━━\u001b[0m\u001b[37m\u001b[0m \u001b[1m41s\u001b[0m 3s/step - accuracy: 0.9718 - loss: 0.1468 - val_accuracy: 0.2083 - val_loss: 31.8988\n",
            "Epoch 6/10\n",
            "\u001b[1m9/9\u001b[0m \u001b[32m━━━━━━━━━━━━━━━━━━━━\u001b[0m\u001b[37m\u001b[0m \u001b[1m42s\u001b[0m 4s/step - accuracy: 0.9441 - loss: 0.1672 - val_accuracy: 0.2917 - val_loss: 22.7518\n",
            "Epoch 7/10\n",
            "\u001b[1m9/9\u001b[0m \u001b[32m━━━━━━━━━━━━━━━━━━━━\u001b[0m\u001b[37m\u001b[0m \u001b[1m33s\u001b[0m 4s/step - accuracy: 0.9874 - loss: 0.0517 - val_accuracy: 0.4306 - val_loss: 14.3527\n",
            "Epoch 8/10\n",
            "\u001b[1m9/9\u001b[0m \u001b[32m━━━━━━━━━━━━━━━━━━━━\u001b[0m\u001b[37m\u001b[0m \u001b[1m39s\u001b[0m 4s/step - accuracy: 0.9880 - loss: 0.0341 - val_accuracy: 0.5139 - val_loss: 13.9125\n",
            "Epoch 9/10\n",
            "\u001b[1m9/9\u001b[0m \u001b[32m━━━━━━━━━━━━━━━━━━━━\u001b[0m\u001b[37m\u001b[0m \u001b[1m34s\u001b[0m 4s/step - accuracy: 0.9775 - loss: 0.0825 - val_accuracy: 0.5556 - val_loss: 13.7434\n",
            "Epoch 10/10\n",
            "\u001b[1m9/9\u001b[0m \u001b[32m━━━━━━━━━━━━━━━━━━━━\u001b[0m\u001b[37m\u001b[0m \u001b[1m33s\u001b[0m 3s/step - accuracy: 0.9874 - loss: 0.0625 - val_accuracy: 0.5694 - val_loss: 12.9487\n"
          ]
        }
      ],
      "source": [
        "feature_model.compile(optimizer='adam',\n",
        "                      loss='sparse_categorical_crossentropy',\n",
        "                      metrics=['accuracy'])\n",
        "\n",
        "history_feature = feature_model.fit(train_ds, validation_data=val_ds, epochs=10)"
      ]
    },
    {
      "cell_type": "markdown",
      "source": [
        "After training with frozen layers (feature extraction), i will now use fine-tuning to unfreeze the pre-trained model to allow changes in its weights. Only the last 30 layers will be unfrozen and the other layers will stay frozen."
      ],
      "metadata": {
        "id": "fMtUAVFf-wQh"
      }
    },
    {
      "cell_type": "code",
      "execution_count": null,
      "metadata": {
        "id": "t3wagUHDV6lx"
      },
      "outputs": [],
      "source": [
        "base_model.trainable = True\n",
        "fine_tune_at = len(base_model.layers) - 30\n",
        "for layer in base_model.layers[:fine_tune_at]:\n",
        "    layer.trainable = False"
      ]
    },
    {
      "cell_type": "code",
      "execution_count": null,
      "metadata": {
        "id": "ZmyxhMDlV75A"
      },
      "outputs": [],
      "source": [
        "fine_model = tf.keras.Sequential([\n",
        "    tf.keras.layers.Rescaling(1./255),\n",
        "    base_model,\n",
        "    tf.keras.layers.GlobalAveragePooling2D(),\n",
        "    tf.keras.layers.Dense(256, activation='relu'),\n",
        "    tf.keras.layers.Dense(num_classes, activation='softmax')\n",
        "])"
      ]
    },
    {
      "cell_type": "code",
      "execution_count": null,
      "metadata": {
        "id": "kAUy1OPDdUwB"
      },
      "outputs": [],
      "source": [
        "fine_model.compile(optimizer='adam',\n",
        "                      loss='sparse_categorical_crossentropy',\n",
        "                      metrics=['accuracy'])"
      ]
    },
    {
      "cell_type": "code",
      "execution_count": null,
      "metadata": {
        "colab": {
          "base_uri": "https://localhost:8080/"
        },
        "id": "-jWmbdeAV95y",
        "outputId": "f92c0add-232d-48e9-ae89-d002f62f9dfa"
      },
      "outputs": [
        {
          "name": "stdout",
          "output_type": "stream",
          "text": [
            "Epoch 1/15\n",
            "\u001b[1m9/9\u001b[0m \u001b[32m━━━━━━━━━━━━━━━━━━━━\u001b[0m\u001b[37m\u001b[0m \u001b[1m35s\u001b[0m 4s/step - accuracy: 0.9782 - loss: 0.1918 - val_accuracy: 0.5278 - val_loss: 12.1697\n",
            "Epoch 2/15\n",
            "\u001b[1m9/9\u001b[0m \u001b[32m━━━━━━━━━━━━━━━━━━━━\u001b[0m\u001b[37m\u001b[0m \u001b[1m37s\u001b[0m 3s/step - accuracy: 0.9859 - loss: 0.0739 - val_accuracy: 0.5139 - val_loss: 9.8829\n",
            "Epoch 3/15\n",
            "\u001b[1m9/9\u001b[0m \u001b[32m━━━━━━━━━━━━━━━━━━━━\u001b[0m\u001b[37m\u001b[0m \u001b[1m41s\u001b[0m 3s/step - accuracy: 0.9947 - loss: 0.0393 - val_accuracy: 0.5278 - val_loss: 9.0126\n",
            "Epoch 4/15\n",
            "\u001b[1m9/9\u001b[0m \u001b[32m━━━━━━━━━━━━━━━━━━━━\u001b[0m\u001b[37m\u001b[0m \u001b[1m31s\u001b[0m 3s/step - accuracy: 0.9861 - loss: 0.1100 - val_accuracy: 0.5417 - val_loss: 10.1206\n",
            "Epoch 5/15\n",
            "\u001b[1m9/9\u001b[0m \u001b[32m━━━━━━━━━━━━━━━━━━━━\u001b[0m\u001b[37m\u001b[0m \u001b[1m40s\u001b[0m 3s/step - accuracy: 0.9380 - loss: 0.2744 - val_accuracy: 0.7083 - val_loss: 3.1382\n",
            "Epoch 6/15\n",
            "\u001b[1m9/9\u001b[0m \u001b[32m━━━━━━━━━━━━━━━━━━━━\u001b[0m\u001b[37m\u001b[0m \u001b[1m41s\u001b[0m 3s/step - accuracy: 0.9840 - loss: 0.1010 - val_accuracy: 0.6667 - val_loss: 4.0397\n",
            "Epoch 7/15\n",
            "\u001b[1m9/9\u001b[0m \u001b[32m━━━━━━━━━━━━━━━━━━━━\u001b[0m\u001b[37m\u001b[0m \u001b[1m41s\u001b[0m 3s/step - accuracy: 0.9734 - loss: 0.0667 - val_accuracy: 0.6389 - val_loss: 4.5591\n",
            "Epoch 8/15\n",
            "\u001b[1m9/9\u001b[0m \u001b[32m━━━━━━━━━━━━━━━━━━━━\u001b[0m\u001b[37m\u001b[0m \u001b[1m31s\u001b[0m 3s/step - accuracy: 0.9969 - loss: 0.0132 - val_accuracy: 0.5833 - val_loss: 7.2524\n",
            "Epoch 9/15\n",
            "\u001b[1m9/9\u001b[0m \u001b[32m━━━━━━━━━━━━━━━━━━━━\u001b[0m\u001b[37m\u001b[0m \u001b[1m40s\u001b[0m 3s/step - accuracy: 0.9979 - loss: 0.0160 - val_accuracy: 0.7222 - val_loss: 5.1690\n",
            "Epoch 10/15\n",
            "\u001b[1m9/9\u001b[0m \u001b[32m━━━━━━━━━━━━━━━━━━━━\u001b[0m\u001b[37m\u001b[0m \u001b[1m45s\u001b[0m 4s/step - accuracy: 1.0000 - loss: 0.0120 - val_accuracy: 0.6806 - val_loss: 6.2430\n",
            "Epoch 11/15\n",
            "\u001b[1m9/9\u001b[0m \u001b[32m━━━━━━━━━━━━━━━━━━━━\u001b[0m\u001b[37m\u001b[0m \u001b[1m37s\u001b[0m 3s/step - accuracy: 1.0000 - loss: 0.0013 - val_accuracy: 0.6944 - val_loss: 5.8079\n",
            "Epoch 12/15\n",
            "\u001b[1m9/9\u001b[0m \u001b[32m━━━━━━━━━━━━━━━━━━━━\u001b[0m\u001b[37m\u001b[0m \u001b[1m41s\u001b[0m 3s/step - accuracy: 1.0000 - loss: 5.8537e-04 - val_accuracy: 0.7222 - val_loss: 5.5769\n",
            "Epoch 13/15\n",
            "\u001b[1m9/9\u001b[0m \u001b[32m━━━━━━━━━━━━━━━━━━━━\u001b[0m\u001b[37m\u001b[0m \u001b[1m41s\u001b[0m 3s/step - accuracy: 0.9939 - loss: 0.0303 - val_accuracy: 0.7083 - val_loss: 4.4023\n",
            "Epoch 14/15\n",
            "\u001b[1m9/9\u001b[0m \u001b[32m━━━━━━━━━━━━━━━━━━━━\u001b[0m\u001b[37m\u001b[0m \u001b[1m41s\u001b[0m 3s/step - accuracy: 0.9993 - loss: 0.0027 - val_accuracy: 0.6667 - val_loss: 4.6696\n",
            "Epoch 15/15\n",
            "\u001b[1m9/9\u001b[0m \u001b[32m━━━━━━━━━━━━━━━━━━━━\u001b[0m\u001b[37m\u001b[0m \u001b[1m39s\u001b[0m 3s/step - accuracy: 0.9985 - loss: 0.0196 - val_accuracy: 0.7361 - val_loss: 4.3898\n"
          ]
        }
      ],
      "source": [
        "history_finetune = fine_model.fit(train_ds, validation_data=val_ds, epochs=15)\n"
      ]
    },
    {
      "cell_type": "code",
      "execution_count": null,
      "metadata": {
        "colab": {
          "base_uri": "https://localhost:8080/",
          "height": 304
        },
        "id": "5l7S_2p2m45H",
        "outputId": "13b225c3-110e-415f-c093-ebee970a800c"
      },
      "outputs": [
        {
          "ename": "AttributeError",
          "evalue": "'NoneType' object has no attribute 'shape'",
          "output_type": "error",
          "traceback": [
            "\u001b[0;31m---------------------------------------------------------------------------\u001b[0m",
            "\u001b[0;31mAttributeError\u001b[0m                            Traceback (most recent call last)",
            "\u001b[0;32m<ipython-input-100-9bfcee07e83e>\u001b[0m in \u001b[0;36m<cell line: 0>\u001b[0;34m()\u001b[0m\n\u001b[0;32m----> 1\u001b[0;31m \u001b[0mhistory_feature\u001b[0m \u001b[0;34m=\u001b[0m \u001b[0mfeature_model\u001b[0m\u001b[0;34m.\u001b[0m\u001b[0mfit\u001b[0m\u001b[0;34m(\u001b[0m\u001b[0;34m)\u001b[0m  \u001b[0;31m# for feature extraction\u001b[0m\u001b[0;34m\u001b[0m\u001b[0;34m\u001b[0m\u001b[0m\n\u001b[0m\u001b[1;32m      2\u001b[0m \u001b[0mhistory_finetune\u001b[0m \u001b[0;34m=\u001b[0m \u001b[0mfine_model\u001b[0m\u001b[0;34m.\u001b[0m\u001b[0mfit\u001b[0m\u001b[0;34m(\u001b[0m\u001b[0;34m)\u001b[0m  \u001b[0;31m# for fine-tuning\u001b[0m\u001b[0;34m\u001b[0m\u001b[0;34m\u001b[0m\u001b[0m\n",
            "\u001b[0;32m/usr/local/lib/python3.11/dist-packages/keras/src/utils/traceback_utils.py\u001b[0m in \u001b[0;36merror_handler\u001b[0;34m(*args, **kwargs)\u001b[0m\n\u001b[1;32m    120\u001b[0m             \u001b[0;31m# To get the full stack trace, call:\u001b[0m\u001b[0;34m\u001b[0m\u001b[0;34m\u001b[0m\u001b[0m\n\u001b[1;32m    121\u001b[0m             \u001b[0;31m# `keras.config.disable_traceback_filtering()`\u001b[0m\u001b[0;34m\u001b[0m\u001b[0;34m\u001b[0m\u001b[0m\n\u001b[0;32m--> 122\u001b[0;31m             \u001b[0;32mraise\u001b[0m \u001b[0me\u001b[0m\u001b[0;34m.\u001b[0m\u001b[0mwith_traceback\u001b[0m\u001b[0;34m(\u001b[0m\u001b[0mfiltered_tb\u001b[0m\u001b[0;34m)\u001b[0m \u001b[0;32mfrom\u001b[0m \u001b[0;32mNone\u001b[0m\u001b[0;34m\u001b[0m\u001b[0;34m\u001b[0m\u001b[0m\n\u001b[0m\u001b[1;32m    123\u001b[0m         \u001b[0;32mfinally\u001b[0m\u001b[0;34m:\u001b[0m\u001b[0;34m\u001b[0m\u001b[0;34m\u001b[0m\u001b[0m\n\u001b[1;32m    124\u001b[0m             \u001b[0;32mdel\u001b[0m \u001b[0mfiltered_tb\u001b[0m\u001b[0;34m\u001b[0m\u001b[0;34m\u001b[0m\u001b[0m\n",
            "\u001b[0;32m/usr/local/lib/python3.11/dist-packages/keras/src/trainers/data_adapters/data_adapter_utils.py\u001b[0m in \u001b[0;36m<genexpr>\u001b[0;34m(.0)\u001b[0m\n\u001b[1;32m    102\u001b[0m \u001b[0;34m\u001b[0m\u001b[0m\n\u001b[1;32m    103\u001b[0m \u001b[0;32mdef\u001b[0m \u001b[0mcheck_data_cardinality\u001b[0m\u001b[0;34m(\u001b[0m\u001b[0mdata\u001b[0m\u001b[0;34m)\u001b[0m\u001b[0;34m:\u001b[0m\u001b[0;34m\u001b[0m\u001b[0;34m\u001b[0m\u001b[0m\n\u001b[0;32m--> 104\u001b[0;31m     \u001b[0mnum_samples\u001b[0m \u001b[0;34m=\u001b[0m \u001b[0mset\u001b[0m\u001b[0;34m(\u001b[0m\u001b[0mint\u001b[0m\u001b[0;34m(\u001b[0m\u001b[0mi\u001b[0m\u001b[0;34m.\u001b[0m\u001b[0mshape\u001b[0m\u001b[0;34m[\u001b[0m\u001b[0;36m0\u001b[0m\u001b[0;34m]\u001b[0m\u001b[0;34m)\u001b[0m \u001b[0;32mfor\u001b[0m \u001b[0mi\u001b[0m \u001b[0;32min\u001b[0m \u001b[0mtree\u001b[0m\u001b[0;34m.\u001b[0m\u001b[0mflatten\u001b[0m\u001b[0;34m(\u001b[0m\u001b[0mdata\u001b[0m\u001b[0;34m)\u001b[0m\u001b[0;34m)\u001b[0m\u001b[0;34m\u001b[0m\u001b[0;34m\u001b[0m\u001b[0m\n\u001b[0m\u001b[1;32m    105\u001b[0m     \u001b[0;32mif\u001b[0m \u001b[0mlen\u001b[0m\u001b[0;34m(\u001b[0m\u001b[0mnum_samples\u001b[0m\u001b[0;34m)\u001b[0m \u001b[0;34m>\u001b[0m \u001b[0;36m1\u001b[0m\u001b[0;34m:\u001b[0m\u001b[0;34m\u001b[0m\u001b[0;34m\u001b[0m\u001b[0m\n\u001b[1;32m    106\u001b[0m         msg = (\n",
            "\u001b[0;31mAttributeError\u001b[0m: 'NoneType' object has no attribute 'shape'"
          ]
        }
      ],
      "source": [
        "history_feature = feature_model.fit()  # for feature extraction\n",
        "history_finetune = fine_model.fit()  # for fine-tuning\n"
      ]
    },
    {
      "cell_type": "code",
      "execution_count": null,
      "metadata": {
        "colab": {
          "base_uri": "https://localhost:8080/",
          "height": 507
        },
        "id": "F0uwvVYGk2XF",
        "outputId": "c0376965-fa83-4b00-865d-955a08151d7b"
      },
      "outputs": [
        {
          "data": {
            "image/png": "[encoded data removed]",
            "text/plain": [
              "<Figure size 800x500 with 1 Axes>"
            ]
          },
          "metadata": {},
          "output_type": "display_data"
        }
      ],
      "source": [
        "import matplotlib.pyplot as plt\n",
        "import numpy as np\n",
        "from sklearn.metrics import roc_auc_score, classification_report\n",
        "def plot_history(hist1, hist2, label1='Feature Extraction', label2='Fine-Tuning'):\n",
        "    acc1 = hist1.history['val_accuracy']\n",
        "    acc2 = hist2.history['val_accuracy']\n",
        "\n",
        "    epochs1 = range(1, len(acc1) + 1)\n",
        "    epochs2 = range(len(acc1) + 1, len(acc1) + len(acc2) + 1)\n",
        "\n",
        "    plt.figure(figsize=(8, 5))\n",
        "    plt.plot(epochs1, acc1, 'bo-', label=f'{label1} Val Acc')\n",
        "    plt.plot(epochs2, acc2, 'ro-', label=f'{label2} Val Acc')\n",
        "    plt.axvline(x=len(acc1), color='gray', linestyle='--', label='Start Fine-Tuning')\n",
        "\n",
        "    plt.legend()\n",
        "    plt.title('Validation Accuracy Comparison')\n",
        "    plt.xlabel('Epochs')\n",
        "    plt.ylabel('Accuracy')\n",
        "    plt.grid(True)\n",
        "    plt.tight_layout()\n",
        "    plt.show()\n",
        "plot_history(history_feature,history_finetune)\n"
      ]
    },
    {
      "cell_type": "code",
      "execution_count": null,
      "metadata": {
        "colab": {
          "base_uri": "https://localhost:8080/"
        },
        "id": "s5D0GkF8jCyC",
        "outputId": "ef035175-f93d-480b-d970-93ed4810b7b3"
      },
      "outputs": [
        {
          "name": "stdout",
          "output_type": "stream",
          "text": [
            "\u001b[1m3/3\u001b[0m \u001b[32m━━━━━━━━━━━━━━━━━━━━\u001b[0m\u001b[37m\u001b[0m \u001b[1m13s\u001b[0m 2s/step\n",
            "\u001b[1m3/3\u001b[0m \u001b[32m━━━━━━━━━━━━━━━━━━━━\u001b[0m\u001b[37m\u001b[0m \u001b[1m9s\u001b[0m 2s/step\n",
            "                  precision    recall  f1-score   support\n",
            "\n",
            "     apple fruit       0.00      0.00      0.00         8\n",
            "    banana fruit       0.00      0.00      0.00        11\n",
            "    cherry fruit       0.22      0.20      0.21        10\n",
            "   chickoo fruit       0.00      0.00      0.00         9\n",
            "    grapes fruit       0.00      0.00      0.00         5\n",
            "      kiwi fruit       0.09      0.38      0.15         8\n",
            "     mango fruit       0.25      0.14      0.18         7\n",
            "    orange fruit       0.00      0.00      0.00         4\n",
            "strawberry fruit       0.22      0.20      0.21        10\n",
            "\n",
            "        accuracy                           0.11        72\n",
            "       macro avg       0.09      0.10      0.08        72\n",
            "    weighted avg       0.10      0.11      0.09        72\n",
            "\n",
            "                  precision    recall  f1-score   support\n",
            "\n",
            "     apple fruit       0.00      0.00      0.00         8\n",
            "    banana fruit       0.00      0.00      0.00        11\n",
            "    cherry fruit       0.30      0.30      0.30        10\n",
            "   chickoo fruit       0.33      0.11      0.17         9\n",
            "    grapes fruit       0.00      0.00      0.00         5\n",
            "      kiwi fruit       0.25      0.38      0.30         8\n",
            "     mango fruit       0.14      0.14      0.14         7\n",
            "    orange fruit       0.00      0.00      0.00         4\n",
            "strawberry fruit       0.09      0.10      0.10        10\n",
            "\n",
            "        accuracy                           0.12        72\n",
            "       macro avg       0.12      0.11      0.11        72\n",
            "    weighted avg       0.14      0.12      0.12        72\n",
            "\n"
          ]
        },
        {
          "name": "stderr",
          "output_type": "stream",
          "text": [
            "/usr/local/lib/python3.11/dist-packages/sklearn/metrics/_classification.py:1565: UndefinedMetricWarning: Precision is ill-defined and being set to 0.0 in labels with no predicted samples. Use `zero_division` parameter to control this behavior.\n",
            "  _warn_prf(average, modifier, f\"{metric.capitalize()} is\", len(result))\n",
            "/usr/local/lib/python3.11/dist-packages/sklearn/metrics/_classification.py:1565: UndefinedMetricWarning: Precision is ill-defined and being set to 0.0 in labels with no predicted samples. Use `zero_division` parameter to control this behavior.\n",
            "  _warn_prf(average, modifier, f\"{metric.capitalize()} is\", len(result))\n",
            "/usr/local/lib/python3.11/dist-packages/sklearn/metrics/_classification.py:1565: UndefinedMetricWarning: Precision is ill-defined and being set to 0.0 in labels with no predicted samples. Use `zero_division` parameter to control this behavior.\n",
            "  _warn_prf(average, modifier, f\"{metric.capitalize()} is\", len(result))\n"
          ]
        }
      ],
      "source": [
        "\n",
        "y_true = np.concatenate([y for x, y in val_ds])\n",
        "y_pred_feat = feature_model.predict(val_ds)\n",
        "y_pred_fine = fine_model.predict(val_ds)\n",
        "y_pred_feat_labels = np.argmax(y_pred_feat, axis=1)\n",
        "y_pred_fine_labels = np.argmax(y_pred_fine, axis=1)\n",
        "roc_feat = roc_auc_score(y_true, y_pred_feat, multi_class='ovr')\n",
        "roc_fine = roc_auc_score(y_true, y_pred_fine, multi_class='ovr')\n",
        "print(classification_report(y_true, y_pred_feat_labels, target_names=class_names))\n",
        "print(classification_report(y_true, y_pred_fine_labels, target_names=class_names))\n"
      ]
    },
    {
      "cell_type": "markdown",
      "metadata": {
        "id": "6G2Q8mTTBZCA"
      },
      "source": [
        "#EfficientNet"
      ]
    },
    {
      "cell_type": "code",
      "execution_count": 4,
      "metadata": {
        "id": "2jOIElGBSWWt"
      },
      "outputs": [],
      "source": [
        "data_augmentation = tf.keras.Sequential([\n",
        "    layers.RandomFlip(\"horizontal\"),            # Randomly flip images horizontally\n",
        "    layers.RandomRotation(0.1),                 # Randomly rotate images by 10%\n",
        "    layers.RandomZoom(0.1),                     # Random zoom\n",
        "    layers.RandomTranslation(0.1, 0.1),         # Randomly shift image height and width\n",
        "])"
      ]
    },
    {
      "cell_type": "code",
      "execution_count": 5,
      "metadata": {
        "id": "5-_-vYL1Ba-u",
        "colab": {
          "base_uri": "https://localhost:8080/"
        },
        "outputId": "5a324cd4-d462-4270-dcc8-ba3f861768b2"
      },
      "outputs": [
        {
          "output_type": "stream",
          "name": "stdout",
          "text": [
            "Downloading data from https://storage.googleapis.com/keras-applications/efficientnetb0_notop.h5\n",
            "\u001b[1m16705208/16705208\u001b[0m \u001b[32m━━━━━━━━━━━━━━━━━━━━\u001b[0m\u001b[37m\u001b[0m \u001b[1m0s\u001b[0m 0us/step\n"
          ]
        }
      ],
      "source": [
        "import tensorflow as tf\n",
        "from tensorflow.keras import layers, models\n",
        "\n",
        "\n",
        "base_model = tf.keras.applications.EfficientNetB0(\n",
        "    input_shape=(224, 224, 3),\n",
        "    include_top=False,\n",
        "    weights='imagenet'\n",
        ")\n",
        "\n",
        "base_model.trainable = False  # Freeze the base model (no training of these layers)\n"
      ]
    },
    {
      "cell_type": "code",
      "execution_count": 6,
      "metadata": {
        "id": "7-pTnbMcg1-d"
      },
      "outputs": [],
      "source": [
        "feature_model = tf.keras.Sequential([\n",
        "    tf.keras.layers.Rescaling(1./255),\n",
        "    base_model,\n",
        "    data_augmentation,\n",
        "    tf.keras.layers.GlobalAveragePooling2D(),\n",
        "    tf.keras.layers.Dense(256, activation='relu'),\n",
        "    tf.keras.layers.Dense(num_classes, activation='softmax')\n",
        "])"
      ]
    },
    {
      "cell_type": "code",
      "execution_count": 7,
      "metadata": {
        "colab": {
          "base_uri": "https://localhost:8080/"
        },
        "id": "ugEkEV9_p_zb",
        "outputId": "06b81d34-9f24-45fb-c760-bc235104385e"
      },
      "outputs": [
        {
          "output_type": "stream",
          "name": "stdout",
          "text": [
            "Epoch 1/10\n",
            "\u001b[1m9/9\u001b[0m \u001b[32m━━━━━━━━━━━━━━━━━━━━\u001b[0m\u001b[37m\u001b[0m \u001b[1m94s\u001b[0m 8s/step - accuracy: 0.0905 - loss: 2.3224 - val_accuracy: 0.1389 - val_loss: 2.2319\n",
            "Epoch 2/10\n",
            "\u001b[1m9/9\u001b[0m \u001b[32m━━━━━━━━━━━━━━━━━━━━\u001b[0m\u001b[37m\u001b[0m \u001b[1m46s\u001b[0m 4s/step - accuracy: 0.1175 - loss: 2.2709 - val_accuracy: 0.1389 - val_loss: 2.1996\n",
            "Epoch 3/10\n",
            "\u001b[1m9/9\u001b[0m \u001b[32m━━━━━━━━━━━━━━━━━━━━\u001b[0m\u001b[37m\u001b[0m \u001b[1m82s\u001b[0m 4s/step - accuracy: 0.0893 - loss: 2.2303 - val_accuracy: 0.0556 - val_loss: 2.2281\n",
            "Epoch 4/10\n",
            "\u001b[1m9/9\u001b[0m \u001b[32m━━━━━━━━━━━━━━━━━━━━\u001b[0m\u001b[37m\u001b[0m \u001b[1m82s\u001b[0m 4s/step - accuracy: 0.0961 - loss: 2.2167 - val_accuracy: 0.1250 - val_loss: 2.1983\n",
            "Epoch 5/10\n",
            "\u001b[1m9/9\u001b[0m \u001b[32m━━━━━━━━━━━━━━━━━━━━\u001b[0m\u001b[37m\u001b[0m \u001b[1m82s\u001b[0m 4s/step - accuracy: 0.1043 - loss: 2.2086 - val_accuracy: 0.0972 - val_loss: 2.2289\n",
            "Epoch 6/10\n",
            "\u001b[1m9/9\u001b[0m \u001b[32m━━━━━━━━━━━━━━━━━━━━\u001b[0m\u001b[37m\u001b[0m \u001b[1m83s\u001b[0m 5s/step - accuracy: 0.1132 - loss: 2.2064 - val_accuracy: 0.0556 - val_loss: 2.2133\n",
            "Epoch 7/10\n",
            "\u001b[1m9/9\u001b[0m \u001b[32m━━━━━━━━━━━━━━━━━━━━\u001b[0m\u001b[37m\u001b[0m \u001b[1m79s\u001b[0m 4s/step - accuracy: 0.1049 - loss: 2.2035 - val_accuracy: 0.0694 - val_loss: 2.2153\n",
            "Epoch 8/10\n",
            "\u001b[1m9/9\u001b[0m \u001b[32m━━━━━━━━━━━━━━━━━━━━\u001b[0m\u001b[37m\u001b[0m \u001b[1m43s\u001b[0m 5s/step - accuracy: 0.0830 - loss: 2.2045 - val_accuracy: 0.1389 - val_loss: 2.1952\n",
            "Epoch 9/10\n",
            "\u001b[1m9/9\u001b[0m \u001b[32m━━━━━━━━━━━━━━━━━━━━\u001b[0m\u001b[37m\u001b[0m \u001b[1m82s\u001b[0m 5s/step - accuracy: 0.1069 - loss: 2.2084 - val_accuracy: 0.1389 - val_loss: 2.2072\n",
            "Epoch 10/10\n",
            "\u001b[1m9/9\u001b[0m \u001b[32m━━━━━━━━━━━━━━━━━━━━\u001b[0m\u001b[37m\u001b[0m \u001b[1m42s\u001b[0m 5s/step - accuracy: 0.1257 - loss: 2.2035 - val_accuracy: 0.0556 - val_loss: 2.2272\n"
          ]
        }
      ],
      "source": [
        "feature_model.compile(optimizer='adam',\n",
        "                      loss='sparse_categorical_crossentropy',\n",
        "                      metrics=['accuracy'])\n",
        "\n",
        "history_feature = feature_model.fit(train_ds, validation_data=val_ds, epochs=10)"
      ]
    },
    {
      "cell_type": "code",
      "execution_count": 8,
      "metadata": {
        "id": "_-cfwEIbS_lr"
      },
      "outputs": [],
      "source": [
        "base_model.trainable = True\n",
        "fine_tune_at = len(base_model.layers) - 30\n",
        "for layer in base_model.layers[:fine_tune_at]:\n",
        "    layer.trainable = False\n"
      ]
    },
    {
      "cell_type": "code",
      "execution_count": 11,
      "metadata": {
        "id": "zGTKEVxWBpYz"
      },
      "outputs": [],
      "source": [
        "model = tf.keras.Sequential([                        # <--- Added here\n",
        "    tf.keras.layers.Rescaling(1./255),\n",
        "    base_model,                              # frozen MobileNetV2 base\n",
        "    tf.keras.layers.GlobalAveragePooling2D(),\n",
        "    tf.keras.layers.Dense(512, activation='relu'),\n",
        "    tf.keras.layers.Dense(256, activation='relu'),\n",
        "    tf.keras.layers.Dense(128, activation='relu'),# flatten feature maps\n",
        "    tf.keras.layers.Dense(9, activation='softmax')  # 10 output classes (1 per fruit)\n",
        "])\n"
      ]
    },
    {
      "cell_type": "code",
      "execution_count": 12,
      "metadata": {
        "id": "9L8Xqkn8Buao"
      },
      "outputs": [],
      "source": [
        "model.compile(optimizer=tf.keras.optimizers.Adam(1e-5),\n",
        "                   loss='sparse_categorical_crossentropy',\n",
        "                   metrics=['accuracy'])\n"
      ]
    },
    {
      "cell_type": "code",
      "execution_count": 13,
      "metadata": {
        "colab": {
          "base_uri": "https://localhost:8080/"
        },
        "id": "unS5amurBvi6",
        "outputId": "39f0c7aa-0562-4d8a-c973-2db89231c397"
      },
      "outputs": [
        {
          "output_type": "stream",
          "name": "stdout",
          "text": [
            "Epoch 1/10\n",
            "\u001b[1m9/9\u001b[0m \u001b[32m━━━━━━━━━━━━━━━━━━━━\u001b[0m\u001b[37m\u001b[0m \u001b[1m71s\u001b[0m 5s/step - accuracy: 0.1235 - loss: 2.2019 - val_accuracy: 0.0694 - val_loss: 2.2018\n",
            "Epoch 2/10\n",
            "\u001b[1m9/9\u001b[0m \u001b[32m━━━━━━━━━━━━━━━━━━━━\u001b[0m\u001b[37m\u001b[0m \u001b[1m97s\u001b[0m 7s/step - accuracy: 0.1150 - loss: 2.2146 - val_accuracy: 0.0694 - val_loss: 2.2003\n",
            "Epoch 3/10\n",
            "\u001b[1m9/9\u001b[0m \u001b[32m━━━━━━━━━━━━━━━━━━━━\u001b[0m\u001b[37m\u001b[0m \u001b[1m64s\u001b[0m 5s/step - accuracy: 0.1226 - loss: 2.2079 - val_accuracy: 0.0694 - val_loss: 2.1993\n",
            "Epoch 4/10\n",
            "\u001b[1m9/9\u001b[0m \u001b[32m━━━━━━━━━━━━━━━━━━━━\u001b[0m\u001b[37m\u001b[0m \u001b[1m81s\u001b[0m 5s/step - accuracy: 0.1055 - loss: 2.2007 - val_accuracy: 0.0694 - val_loss: 2.1985\n",
            "Epoch 5/10\n",
            "\u001b[1m9/9\u001b[0m \u001b[32m━━━━━━━━━━━━━━━━━━━━\u001b[0m\u001b[37m\u001b[0m \u001b[1m46s\u001b[0m 5s/step - accuracy: 0.1248 - loss: 2.2154 - val_accuracy: 0.0694 - val_loss: 2.1979\n",
            "Epoch 6/10\n",
            "\u001b[1m9/9\u001b[0m \u001b[32m━━━━━━━━━━━━━━━━━━━━\u001b[0m\u001b[37m\u001b[0m \u001b[1m81s\u001b[0m 5s/step - accuracy: 0.1370 - loss: 2.2076 - val_accuracy: 0.0694 - val_loss: 2.1975\n",
            "Epoch 7/10\n",
            "\u001b[1m9/9\u001b[0m \u001b[32m━━━━━━━━━━━━━━━━━━━━\u001b[0m\u001b[37m\u001b[0m \u001b[1m82s\u001b[0m 5s/step - accuracy: 0.0948 - loss: 2.2032 - val_accuracy: 0.0694 - val_loss: 2.1973\n",
            "Epoch 8/10\n",
            "\u001b[1m9/9\u001b[0m \u001b[32m━━━━━━━━━━━━━━━━━━━━\u001b[0m\u001b[37m\u001b[0m \u001b[1m82s\u001b[0m 5s/step - accuracy: 0.1213 - loss: 2.2072 - val_accuracy: 0.0694 - val_loss: 2.1967\n",
            "Epoch 9/10\n",
            "\u001b[1m9/9\u001b[0m \u001b[32m━━━━━━━━━━━━━━━━━━━━\u001b[0m\u001b[37m\u001b[0m \u001b[1m80s\u001b[0m 5s/step - accuracy: 0.1331 - loss: 2.2100 - val_accuracy: 0.0694 - val_loss: 2.1963\n",
            "Epoch 10/10\n",
            "\u001b[1m9/9\u001b[0m \u001b[32m━━━━━━━━━━━━━━━━━━━━\u001b[0m\u001b[37m\u001b[0m \u001b[1m89s\u001b[0m 6s/step - accuracy: 0.1361 - loss: 2.2045 - val_accuracy: 0.0694 - val_loss: 2.1959\n"
          ]
        }
      ],
      "source": [
        "history_finetune = model.fit(train_ds, validation_data=val_ds, epochs=10)\n"
      ]
    },
    {
      "cell_type": "code",
      "source": [
        "import matplotlib.pyplot as plt\n",
        "import numpy as np\n",
        "from sklearn.metrics import roc_auc_score, classification_report\n",
        "def plot_history(hist1, hist2, label1='Feature Extraction', label2='Fine-Tuning'):\n",
        "    acc1 = hist1.history['val_accuracy']\n",
        "    acc2 = hist2.history['val_accuracy']\n",
        "\n",
        "    epochs1 = range(1, len(acc1) + 1)\n",
        "    epochs2 = range(len(acc1) + 1, len(acc1) + len(acc2) + 1)\n",
        "\n",
        "    plt.figure(figsize=(8, 5))\n",
        "    plt.plot(epochs1, acc1, 'bo-', label=f'{label1} Val Acc')\n",
        "    plt.plot(epochs2, acc2, 'ro-', label=f'{label2} Val Acc')\n",
        "    plt.axvline(x=len(acc1), color='gray', linestyle='--', label='Start Fine-Tuning')\n",
        "\n",
        "    plt.legend()\n",
        "    plt.title('Validation Accuracy Comparison')\n",
        "    plt.xlabel('Epochs')\n",
        "    plt.ylabel('Accuracy')\n",
        "    plt.grid(True)\n",
        "    plt.tight_layout()\n",
        "    plt.show()\n",
        "plot_history(history_feature,history_finetune)\n"
      ],
      "metadata": {
        "colab": {
          "base_uri": "https://localhost:8080/",
          "height": 507
        },
        "id": "NFBJ_S0N_CSe",
        "outputId": "ef8213aa-f2ee-473b-cc74-3dd9f2fc23f5"
      },
      "execution_count": 14,
      "outputs": [
        {
          "output_type": "display_data",
          "data": {
            "text/plain": [
              "<Figure size 800x500 with 1 Axes>"
            ],
            "image/png": "[encoded data removed]"
          },
          "metadata": {}
        }
      ]
    },
    {
      "cell_type": "code",
      "source": [
        "y_true = np.concatenate([y for x, y in val_ds])\n",
        "y_pred_feat = feature_model.predict(val_ds)\n",
        "y_pred_fine = model.predict(val_ds)\n",
        "y_pred_feat_labels = np.argmax(y_pred_feat, axis=1)\n",
        "y_pred_fine_labels = np.argmax(y_pred_fine, axis=1)\n",
        "roc_feat = roc_auc_score(y_true, y_pred_feat, multi_class='ovr')\n",
        "roc_fine = roc_auc_score(y_true, y_pred_fine, multi_class='ovr')\n",
        "print(classification_report(y_true, y_pred_feat_labels, target_names=class_names))\n",
        "print(classification_report(y_true, y_pred_fine_labels, target_names=class_names))\n"
      ],
      "metadata": {
        "colab": {
          "base_uri": "https://localhost:8080/"
        },
        "id": "MX0t3wFM_X_Q",
        "outputId": "d6186408-8a30-4243-e963-84a2aed7cf3d"
      },
      "execution_count": 16,
      "outputs": [
        {
          "output_type": "stream",
          "name": "stdout",
          "text": [
            "\u001b[1m3/3\u001b[0m \u001b[32m━━━━━━━━━━━━━━━━━━━━\u001b[0m\u001b[37m\u001b[0m \u001b[1m7s\u001b[0m 1s/step\n",
            "\u001b[1m3/3\u001b[0m \u001b[32m━━━━━━━━━━━━━━━━━━━━\u001b[0m\u001b[37m\u001b[0m \u001b[1m16s\u001b[0m 4s/step\n",
            "                  precision    recall  f1-score   support\n",
            "\n",
            "     apple fruit       0.00      0.00      0.00         8\n",
            "    banana fruit       0.00      0.00      0.00        11\n",
            "    cherry fruit       0.00      0.00      0.00        10\n",
            "   chickoo fruit       0.00      0.00      0.00         9\n",
            "    grapes fruit       0.00      0.00      0.00         5\n",
            "      kiwi fruit       0.00      0.00      0.00         8\n",
            "     mango fruit       0.00      0.00      0.00         7\n",
            "    orange fruit       0.06      1.00      0.11         4\n",
            "strawberry fruit       0.00      0.00      0.00        10\n",
            "\n",
            "        accuracy                           0.06        72\n",
            "       macro avg       0.01      0.11      0.01        72\n",
            "    weighted avg       0.00      0.06      0.01        72\n",
            "\n",
            "                  precision    recall  f1-score   support\n",
            "\n",
            "     apple fruit       0.00      0.00      0.00         8\n",
            "    banana fruit       0.00      0.00      0.00        11\n",
            "    cherry fruit       0.00      0.00      0.00        10\n",
            "   chickoo fruit       0.00      0.00      0.00         9\n",
            "    grapes fruit       0.07      1.00      0.13         5\n",
            "      kiwi fruit       0.00      0.00      0.00         8\n",
            "     mango fruit       0.00      0.00      0.00         7\n",
            "    orange fruit       0.00      0.00      0.00         4\n",
            "strawberry fruit       0.00      0.00      0.00        10\n",
            "\n",
            "        accuracy                           0.07        72\n",
            "       macro avg       0.01      0.11      0.01        72\n",
            "    weighted avg       0.00      0.07      0.01        72\n",
            "\n"
          ]
        },
        {
          "output_type": "stream",
          "name": "stderr",
          "text": [
            "/usr/local/lib/python3.11/dist-packages/sklearn/metrics/_classification.py:1565: UndefinedMetricWarning: Precision is ill-defined and being set to 0.0 in labels with no predicted samples. Use `zero_division` parameter to control this behavior.\n",
            "  _warn_prf(average, modifier, f\"{metric.capitalize()} is\", len(result))\n",
            "/usr/local/lib/python3.11/dist-packages/sklearn/metrics/_classification.py:1565: UndefinedMetricWarning: Precision is ill-defined and being set to 0.0 in labels with no predicted samples. Use `zero_division` parameter to control this behavior.\n",
            "  _warn_prf(average, modifier, f\"{metric.capitalize()} is\", len(result))\n",
            "/usr/local/lib/python3.11/dist-packages/sklearn/metrics/_classification.py:1565: UndefinedMetricWarning: Precision is ill-defined and being set to 0.0 in labels with no predicted samples. Use `zero_division` parameter to control this behavior.\n",
            "  _warn_prf(average, modifier, f\"{metric.capitalize()} is\", len(result))\n",
            "/usr/local/lib/python3.11/dist-packages/sklearn/metrics/_classification.py:1565: UndefinedMetricWarning: Precision is ill-defined and being set to 0.0 in labels with no predicted samples. Use `zero_division` parameter to control this behavior.\n",
            "  _warn_prf(average, modifier, f\"{metric.capitalize()} is\", len(result))\n",
            "/usr/local/lib/python3.11/dist-packages/sklearn/metrics/_classification.py:1565: UndefinedMetricWarning: Precision is ill-defined and being set to 0.0 in labels with no predicted samples. Use `zero_division` parameter to control this behavior.\n",
            "  _warn_prf(average, modifier, f\"{metric.capitalize()} is\", len(result))\n",
            "/usr/local/lib/python3.11/dist-packages/sklearn/metrics/_classification.py:1565: UndefinedMetricWarning: Precision is ill-defined and being set to 0.0 in labels with no predicted samples. Use `zero_division` parameter to control this behavior.\n",
            "  _warn_prf(average, modifier, f\"{metric.capitalize()} is\", len(result))\n"
          ]
        }
      ]
    }
  ],
  "metadata": {
    "colab": {
      "provenance": []
    },
    "kernelspec": {
      "display_name": "Python 3",
      "name": "python3"
    },
    "language_info": {
      "name": "python"
    }
  },
  "nbformat": 4,
  "nbformat_minor": 0
}